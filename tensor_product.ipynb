{
  "nbformat": 4,
  "nbformat_minor": 0,
  "metadata": {
    "colab": {
      "provenance": []
    },
    "kernelspec": {
      "name": "python3",
      "display_name": "Python 3"
    },
    "language_info": {
      "name": "python"
    }
  },
  "cells": [
    {
      "cell_type": "code",
      "execution_count": 1,
      "metadata": {
        "colab": {
          "base_uri": "https://localhost:8080/"
        },
        "id": "ZsP-8Sw3sGT1",
        "outputId": "54e5632c-2c2d-485e-90a1-3c542b44eee9"
      },
      "outputs": [
        {
          "output_type": "stream",
          "name": "stdout",
          "text": [
            "\u001b[?25l     \u001b[90m━━━━━━━━━━━━━━━━━━━━━━━━━━━━━━━━━━━━━━━━\u001b[0m \u001b[32m0.0/162.6 kB\u001b[0m \u001b[31m?\u001b[0m eta \u001b[36m-:--:--\u001b[0m\r\u001b[2K     \u001b[90m━━━━━━━━━━━━━━━━━━━━━━━━━━━━━━━━━━━━━━━\u001b[0m \u001b[32m162.6/162.6 kB\u001b[0m \u001b[31m4.9 MB/s\u001b[0m eta \u001b[36m0:00:00\u001b[0m\n",
            "\u001b[?25h  Preparing metadata (setup.py) ... \u001b[?25l\u001b[?25hdone\n",
            "\u001b[2K   \u001b[90m━━━━━━━━━━━━━━━━━━━━━━━━━━━━━━━━━━━━━━━━\u001b[0m \u001b[32m8.0/8.0 MB\u001b[0m \u001b[31m77.6 MB/s\u001b[0m eta \u001b[36m0:00:00\u001b[0m\n",
            "\u001b[2K   \u001b[90m━━━━━━━━━━━━━━━━━━━━━━━━━━━━━━━━━━━━━━━━\u001b[0m \u001b[32m12.4/12.4 MB\u001b[0m \u001b[31m103.8 MB/s\u001b[0m eta \u001b[36m0:00:00\u001b[0m\n",
            "\u001b[2K   \u001b[90m━━━━━━━━━━━━━━━━━━━━━━━━━━━━━━━━━━━━━━━━\u001b[0m \u001b[32m2.2/2.2 MB\u001b[0m \u001b[31m63.2 MB/s\u001b[0m eta \u001b[36m0:00:00\u001b[0m\n",
            "\u001b[2K   \u001b[90m━━━━━━━━━━━━━━━━━━━━━━━━━━━━━━━━━━━━━━━━\u001b[0m \u001b[32m49.5/49.5 kB\u001b[0m \u001b[31m2.9 MB/s\u001b[0m eta \u001b[36m0:00:00\u001b[0m\n",
            "\u001b[?25h  Building wheel for pylatexenc (setup.py) ... \u001b[?25l\u001b[?25hdone\n"
          ]
        }
      ],
      "source": [
        "!pip install qiskit qiskit-aer pylatexenc -q"
      ]
    },
    {
      "cell_type": "code",
      "source": [
        "from qiskit import QuantumCircuit, transpile\n",
        "from qiskit_aer import AerSimulator\n",
        "from qiskit.visualization import plot_histogram, plot_bloch_multivector\n",
        "from qiskit.quantum_info import Statevector\n",
        "import matplotlib.pyplot as plt"
      ],
      "metadata": {
        "id": "d8fHZcETsPrp"
      },
      "execution_count": 2,
      "outputs": []
    },
    {
      "cell_type": "code",
      "source": [
        "simulator = AerSimulator()"
      ],
      "metadata": {
        "id": "ROVBEcVqsRFQ"
      },
      "execution_count": 3,
      "outputs": []
    },
    {
      "cell_type": "code",
      "source": [
        "print(\"\\n Block 1: Superposition (Hadamard Gates on both qubits)\")\n",
        "qc1 = QuantumCircuit(2, 2)\n",
        "qc1.h(0)\n",
        "qc1.h(1)\n",
        "qc1.measure([0, 1], [0, 1])\n",
        "\n",
        "compiled1 = transpile(qc1, simulator)\n",
        "result1 = simulator.run(compiled1, shots=1024).result()\n",
        "counts1 = result1.get_counts()\n",
        "print(\"Measurement Results (Superposition):\", counts1)\n",
        "plot_histogram(counts1)\n",
        "plt.show()\n"
      ],
      "metadata": {
        "colab": {
          "base_uri": "https://localhost:8080/"
        },
        "id": "YemIHaUvsUQx",
        "outputId": "18bdc05e-eef3-459b-c889-8f4fb874f95e"
      },
      "execution_count": 5,
      "outputs": [
        {
          "output_type": "stream",
          "name": "stdout",
          "text": [
            "\n",
            " Block 1: Superposition (Hadamard Gates on both qubits)\n",
            "Measurement Results (Superposition): {'10': 244, '00': 264, '01': 239, '11': 277}\n"
          ]
        }
      ]
    },
    {
      "cell_type": "code",
      "source": [
        "print(\"\\n Block 2: Bit Flip (X Gate on qubit 0)\")\n",
        "qc2 = QuantumCircuit(2, 2)\n",
        "qc2.x(0)\n",
        "qc2.measure([0, 1], [0, 1])\n",
        "\n",
        "compiled2 = transpile(qc2, simulator)\n",
        "result2 = simulator.run(compiled2, shots=1024).result()\n",
        "counts2 = result2.get_counts()\n",
        "print(\"Measurement Results (Swap Roles):\", counts2)\n",
        "plot_histogram(counts2)\n",
        "plt.show()\n"
      ],
      "metadata": {
        "colab": {
          "base_uri": "https://localhost:8080/"
        },
        "id": "tWolqULIsdAk",
        "outputId": "100bc508-e5b3-41af-8df4-3882c0922689"
      },
      "execution_count": 6,
      "outputs": [
        {
          "output_type": "stream",
          "name": "stdout",
          "text": [
            "\n",
            " Block 2: Bit Flip (X Gate on qubit 0)\n",
            "Measurement Results (Swap Roles): {'01': 1024}\n"
          ]
        }
      ]
    },
    {
      "cell_type": "code",
      "source": [
        "print(\"\\n Block 3: Entanglement (Bell State Creation)\")\n",
        "qc3 = QuantumCircuit(2, 2)\n",
        "qc3.h(0)\n",
        "qc3.cx(0, 1)\n",
        "qc3.measure([0, 1], [0, 1])\n",
        "\n",
        "compiled3 = transpile(qc3, simulator)\n",
        "result3 = simulator.run(compiled3, shots=1024).result()\n",
        "counts3 = result3.get_counts()\n",
        "print(\"Measurement Results (Entanglement):\", counts3)\n",
        "plot_histogram(counts3)\n",
        "plt.show()\n"
      ],
      "metadata": {
        "colab": {
          "base_uri": "https://localhost:8080/"
        },
        "id": "-lTP9rA8si9j",
        "outputId": "03db4bbd-195c-4eba-c650-6635bb31f0d3"
      },
      "execution_count": 7,
      "outputs": [
        {
          "output_type": "stream",
          "name": "stdout",
          "text": [
            "\n",
            " Block 3: Entanglement (Bell State Creation)\n",
            "Measurement Results (Entanglement): {'00': 513, '11': 511}\n"
          ]
        }
      ]
    },
    {
      "cell_type": "code",
      "source": [
        "print(\"\\n Block 4: Superposition Stability with 4096 Shots\")\n",
        "qc4 = QuantumCircuit(2, 2)\n",
        "qc4.h(0)\n",
        "qc4.h(1)\n",
        "qc4.measure([0, 1], [0, 1])\n",
        "\n",
        "compiled4 = transpile(qc4, simulator)\n",
        "result4 = simulator.run(compiled4, shots=4096).result()\n",
        "counts4 = result4.get_counts()\n",
        "print(\"Measurement Results with 4096 shots (Improved Stability):\", counts4)\n",
        "plot_histogram(counts4)\n",
        "plt.show()\n"
      ],
      "metadata": {
        "colab": {
          "base_uri": "https://localhost:8080/"
        },
        "id": "bFQ3BS4MsoCt",
        "outputId": "d62cac5f-ca88-4048-aa93-eb27493ee8d9"
      },
      "execution_count": 8,
      "outputs": [
        {
          "output_type": "stream",
          "name": "stdout",
          "text": [
            "\n",
            " Block 4: Superposition Stability with 4096 Shots\n",
            "Measurement Results with 4096 shots (Improved Stability): {'01': 1018, '11': 1028, '10': 1059, '00': 991}\n"
          ]
        }
      ]
    },
    {
      "cell_type": "code",
      "source": [
        "print(\"\\n Block 5: Bloch Visualization (Entangled Bell State)\")\n",
        "qc5 = QuantumCircuit(2)\n",
        "qc5.h(0)\n",
        "qc5.cx(0, 1)\n",
        "\n",
        "\n",
        "\n"
      ],
      "metadata": {
        "colab": {
          "base_uri": "https://localhost:8080/"
        },
        "id": "1bVERrdrss4W",
        "outputId": "45a15f9e-75d1-4bba-bcff-6fb70b5f01f4"
      },
      "execution_count": 9,
      "outputs": [
        {
          "output_type": "stream",
          "name": "stdout",
          "text": [
            "\n",
            " Block 5: Bloch Visualization (Entangled Bell State)\n"
          ]
        },
        {
          "output_type": "execute_result",
          "data": {
            "text/plain": [
              "<qiskit.circuit.instructionset.InstructionSet at 0x7f490da6c1c0>"
            ]
          },
          "metadata": {},
          "execution_count": 9
        }
      ]
    },
    {
      "cell_type": "code",
      "source": [
        "state = Statevector.from_instruction(qc5)\n",
        "plot_bloch_multivector(state)\n",
        "plt.show()\n"
      ],
      "metadata": {
        "id": "nYUKTaCisyWF"
      },
      "execution_count": 10,
      "outputs": []
    },
    {
      "cell_type": "code",
      "source": [
        "qc5.measure_all()\n",
        "compiled5 = transpile(qc5, simulator)\n",
        "result5 = simulator.run(compiled5, shots=1024).result()\n",
        "counts5 = result5.get_counts()\n",
        "print(\"Measurement Results (Bloch Visualization):\", counts5)\n",
        "plot_histogram(counts5)\n",
        "plt.show()\n",
        "\n",
        "print(\"\\n All quantum tasks executed successfully!\")"
      ],
      "metadata": {
        "colab": {
          "base_uri": "https://localhost:8080/"
        },
        "id": "ZGyLl8VEs13b",
        "outputId": "36b079a4-9ec3-4337-b006-a16282995978"
      },
      "execution_count": 11,
      "outputs": [
        {
          "output_type": "stream",
          "name": "stdout",
          "text": [
            "Measurement Results (Bloch Visualization): {'00': 489, '11': 535}\n",
            "\n",
            " All quantum tasks executed successfully!\n"
          ]
        }
      ]
    }
  ]
}